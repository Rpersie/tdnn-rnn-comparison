{
 "cells": [
  {
   "cell_type": "markdown",
   "metadata": {},
   "source": [
    "# Especificação do modelo\n",
    "\n",
    "Célula GRU\n",
    "512 units\n",
    "4 camadas"
   ]
  },
  {
   "cell_type": "code",
   "execution_count": 1,
   "metadata": {},
   "outputs": [],
   "source": [
    "import sys\n",
    "sys.path\n",
    "sys.path.append('../../nn-asr-resources/')\n",
    "\n",
    "import tensorflow as tf\n",
    "from tensorflow import keras\n",
    "from tensorflow.keras.layers import Embedding, GRU, TimeDistributed, Dense\n",
    "\n",
    "import data\n",
    "import train"
   ]
  },
  {
   "cell_type": "code",
   "execution_count": 2,
   "metadata": {},
   "outputs": [],
   "source": [
    "UNITS = 512\n",
    "\n",
    "model = keras.models.Sequential()\n",
    "model.add(GRU(UNITS, return_sequences=True, input_shape=(None, train.INPUT_FEATURES), name=\"lstm_input\"))\n",
    "model.add(GRU(UNITS, return_sequences=True, name=\"lstm_2\"))\n",
    "model.add(GRU(UNITS, return_sequences=True, name=\"lstm_3\"))\n",
    "model.add(GRU(UNITS, return_sequences=True, name=\"lstm_4\"))\n",
    "model.add(TimeDistributed(Dense(train.NUM_PHONEMES + 1), name=\"output\"))"
   ]
  },
  {
   "cell_type": "code",
   "execution_count": 3,
   "metadata": {},
   "outputs": [
    {
     "name": "stdout",
     "output_type": "stream",
     "text": [
      "(?, ?, 13)\n",
      "_________________________________________________________________\n",
      "Layer (type)                 Output Shape              Param #   \n",
      "=================================================================\n",
      "lstm_input (GRU)             (None, None, 512)         807936    \n",
      "_________________________________________________________________\n",
      "lstm_2 (GRU)                 (None, None, 512)         1574400   \n",
      "_________________________________________________________________\n",
      "lstm_3 (GRU)                 (None, None, 512)         1574400   \n",
      "_________________________________________________________________\n",
      "lstm_4 (GRU)                 (None, None, 512)         1574400   \n",
      "_________________________________________________________________\n",
      "output (TimeDistributed)     (None, None, 45)          23085     \n",
      "=================================================================\n",
      "Total params: 5,554,221\n",
      "Trainable params: 5,554,221\n",
      "Non-trainable params: 0\n",
      "_________________________________________________________________\n"
     ]
    }
   ],
   "source": [
    "print(model.layers[0].input.shape)\n",
    "model.summary()"
   ]
  },
  {
   "cell_type": "code",
   "execution_count": null,
   "metadata": {},
   "outputs": [],
   "source": [
    "TRAINING_DATA_PATH = \"TODO\"\n",
    "VALIDATION_DATA_PATH = \"TODO\"\n",
    "\n",
    "trainer = train.Trainer(model, TRAINING_DATA_PATH, VALIDATION_DATA_PATH)"
   ]
  },
  {
   "cell_type": "code",
   "execution_count": null,
   "metadata": {},
   "outputs": [],
   "source": [
    "CHECKPOINT_PATH = \"TODO\"\n",
    "checkpoint_callback = keras.callbacks.ModelCheckpoint(\n",
    "    CHECKPOINT_PATH, verbose=1, save_weights_only=False, period=1\n",
    ")"
   ]
  },
  {
   "cell_type": "code",
   "execution_count": null,
   "metadata": {},
   "outputs": [],
   "source": [
    "EPOCHS = 10\n",
    "trainer.train(EPOCHS, [checkpoint_callback])"
   ]
  },
  {
   "cell_type": "code",
   "execution_count": null,
   "metadata": {},
   "outputs": [],
   "source": []
  }
 ],
 "metadata": {
  "kernelspec": {
   "display_name": "Python 3",
   "language": "python",
   "name": "python3"
  },
  "language_info": {
   "codemirror_mode": {
    "name": "ipython",
    "version": 3
   },
   "file_extension": ".py",
   "mimetype": "text/x-python",
   "name": "python",
   "nbconvert_exporter": "python",
   "pygments_lexer": "ipython3",
   "version": "3.6.6"
  }
 },
 "nbformat": 4,
 "nbformat_minor": 2
}
