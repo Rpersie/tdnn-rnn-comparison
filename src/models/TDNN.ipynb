{
 "cells": [
  {
   "cell_type": "markdown",
   "metadata": {},
   "source": [
    "# Specs\n",
    "dunno yet"
   ]
  },
  {
   "cell_type": "code",
   "execution_count": 2,
   "metadata": {},
   "outputs": [],
   "source": [
    "# Imports\n",
    "import sys\n",
    "sys.path.append(\"../../nn-asr-resources/\")\n",
    "import data\n",
    "import train\n",
    "from tensorflow import keras\n",
    "import os\n",
    "from time import strftime, gmtime"
   ]
  },
  {
   "cell_type": "code",
   "execution_count": 3,
   "metadata": {},
   "outputs": [],
   "source": [
    "# Constants\n",
    "_window_size = 20 # defines the past lookup for determining the following word\n",
    "_path = \"data/simple-examples/data\"\n",
    "_checkpoint_path = \"training/conv2d/cp-{epoch:04d}_\" + strftime(\"%H-%M_%d-%m-%Y\", gmtime()) + \".ckpt\"\n",
    "_checkpoint_dir = os.path.dirname\n",
    "_mask_value = 2.\n",
    "features = 13"
   ]
  },
  {
   "cell_type": "code",
   "execution_count": 20,
   "metadata": {},
   "outputs": [],
   "source": [
    "# Model creation\n",
    "model = keras.models.Sequential()\n",
    "#model.add(keras.layers.Masking(_mask_value, input_shape=(None,_window_size, features, 1), name = \"01-Masking_01\"))\n",
    "model.add(keras.layers.Reshape((-1, 20, 13, 1), input_shape=(None, 20,13)))\n",
    "# model.add(keras.layers.TimeDistributed(keras.layers.Reshape((20, 13, 1), input_shape=(20,13))))\n",
    "model.add(keras.layers.TimeDistributed(keras.layers.Conv2D(1,(3,3))))"
   ]
  },
  {
   "cell_type": "code",
   "execution_count": 21,
   "metadata": {},
   "outputs": [
    {
     "name": "stdout",
     "output_type": "stream",
     "text": [
      "_________________________________________________________________\n",
      "Layer (type)                 Output Shape              Param #   \n",
      "=================================================================\n",
      "reshape_7 (Reshape)          (None, None, 20, 13, 1)   0         \n",
      "_________________________________________________________________\n",
      "time_distributed_11 (TimeDis (None, None, 18, 11, 1)   10        \n",
      "=================================================================\n",
      "Total params: 10\n",
      "Trainable params: 10\n",
      "Non-trainable params: 0\n",
      "_________________________________________________________________\n"
     ]
    }
   ],
   "source": [
    "model.summary()"
   ]
  },
  {
   "cell_type": "code",
   "execution_count": 22,
   "metadata": {},
   "outputs": [
    {
     "ename": "ImportError",
     "evalue": "cannot import name 'Sequential'",
     "output_type": "error",
     "traceback": [
      "\u001b[0;31m---------------------------------------------------------------------------\u001b[0m",
      "\u001b[0;31mImportError\u001b[0m                               Traceback (most recent call last)",
      "\u001b[0;32m<ipython-input-22-ef0396cbcfec>\u001b[0m in \u001b[0;36m<module>\u001b[0;34m()\u001b[0m\n\u001b[0;32m----> 1\u001b[0;31m \u001b[0;32mfrom\u001b[0m \u001b[0mtensorflow\u001b[0m\u001b[0;34m.\u001b[0m\u001b[0mkeras\u001b[0m\u001b[0;34m.\u001b[0m\u001b[0mlayers\u001b[0m \u001b[0;32mimport\u001b[0m \u001b[0mSequential\u001b[0m\u001b[0;34m,\u001b[0m \u001b[0mTimeDistributed\u001b[0m\u001b[0;34m,\u001b[0m \u001b[0mLSTM\u001b[0m\u001b[0;34m,\u001b[0m \u001b[0mConv2D\u001b[0m\u001b[0;34m,\u001b[0m \u001b[0mDense\u001b[0m\u001b[0;34m,\u001b[0m \u001b[0mFlatten\u001b[0m\u001b[0;34m\u001b[0m\u001b[0m\n\u001b[0m\u001b[1;32m      2\u001b[0m \u001b[0mBATCH_SIZE\u001b[0m \u001b[0;34m=\u001b[0m \u001b[0;36m10\u001b[0m\u001b[0;34m\u001b[0m\u001b[0m\n\u001b[1;32m      3\u001b[0m \u001b[0mTIME_STEPS\u001b[0m\u001b[0;34m=\u001b[0m\u001b[0;36m86\u001b[0m\u001b[0;34m\u001b[0m\u001b[0m\n\u001b[1;32m      4\u001b[0m \u001b[0mINPUT_SIZE\u001b[0m\u001b[0;34m=\u001b[0m\u001b[0;36m28\u001b[0m\u001b[0;34m*\u001b[0m\u001b[0;36m28\u001b[0m\u001b[0;34m\u001b[0m\u001b[0m\n\u001b[1;32m      5\u001b[0m \u001b[0;34m\u001b[0m\u001b[0m\n",
      "\u001b[0;31mImportError\u001b[0m: cannot import name 'Sequential'"
     ]
    }
   ],
   "source": [
    "BATCH_SIZE = 10\n",
    "TIME_STEPS=86\n",
    "INPUT_SIZE=28*28\n",
    "\n",
    "model = Sequential()\n",
    "model.add(InputLayer(batch_input_shape=(BATCH_SIZE, TIME_STEPS,     \n",
    "INPUT_SIZE)))\n",
    "print (model.output_shape)\n",
    "\n",
    "model.add(TimeDistributed(Conv2D(64,(1,3),strides=(1,1), padding='same', \n",
    "data_format='channels_last')))  ##always the error here\n",
    "print (model.output_shape)\n",
    "\n",
    "model.add(TimeDistributed(MaxPooling2D(pool_size=(2,2),padding='same')))\n",
    "print (model.output_shape)\n",
    "\n",
    "model.add(TimeDistributed(Conv2D(64,(1,3),strides=(1,1), \n",
    "data_format='channels_last', padding='same')))\n",
    "print (model.output_shape)\n",
    "\n",
    "model.add(TimeDistributed(MaxPooling2D(pool_size=(2,2),padding='same')))\n",
    "print (model.output_shape)\n",
    "\n",
    "model.add(TimeDistributed(Flatten()))\n",
    "print (model.output_shape)\n",
    "\n",
    "model.add(TimeDistributed(Dense(4096, activation='relu')))\n",
    "print (model.output_shape)\n",
    "\n",
    "model.add(LSTM(100, stateful=True, return_sequences=True))\n",
    "print (model.output_shape)\n",
    "\n",
    "model.add(Dense(1, activation='sigmoid'))\n",
    "print (model.output_shape)"
   ]
  },
  {
   "cell_type": "code",
   "execution_count": null,
   "metadata": {},
   "outputs": [],
   "source": []
  }
 ],
 "metadata": {
  "kernelspec": {
   "display_name": "Python 3",
   "language": "python",
   "name": "python3"
  },
  "language_info": {
   "codemirror_mode": {
    "name": "ipython",
    "version": 3
   },
   "file_extension": ".py",
   "mimetype": "text/x-python",
   "name": "python",
   "nbconvert_exporter": "python",
   "pygments_lexer": "ipython3",
   "version": "3.6.5"
  }
 },
 "nbformat": 4,
 "nbformat_minor": 2
}
